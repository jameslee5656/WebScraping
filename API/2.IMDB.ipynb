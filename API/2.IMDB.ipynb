{
 "cells": [
  {
   "cell_type": "code",
   "execution_count": 29,
   "metadata": {},
   "outputs": [],
   "source": [
    "from bs4 import BeautifulSoup as bs\n",
    "import time, requests, json,re,math,collections\n",
    "from IPython.display import clear_output"
   ]
  },
  {
   "cell_type": "code",
   "execution_count": 30,
   "metadata": {},
   "outputs": [],
   "source": [
    "def get_data(url):\n",
    "    data = json.loads(requests.get(url).text)\n",
    "    if data['Response'] == 'True':\n",
    "        return data\n",
    "    else:\n",
    "        return None"
   ]
  },
  {
   "cell_type": "code",
   "execution_count": 31,
   "metadata": {},
   "outputs": [],
   "source": [
    "api_key = 'a9d864f8'\n",
    "ombd_url = 'https://www.omdbapi.com/?apikey=' + api_key"
   ]
  },
  {
   "cell_type": "code",
   "execution_count": 32,
   "metadata": {},
   "outputs": [],
   "source": [
    "def search_ids_by_keyword(keywords):\n",
    "    movie_ids = list()\n",
    "    query = '+'.join(keywords.split()) #Meaning 'Iron Man' -> Iron+Man\n",
    "    url = ombd_url + '&s=' + query\n",
    "    data = get_data(url)\n",
    "    \n",
    "    if data:\n",
    "#         get the first page movie id\n",
    "        for item in data['Search']:\n",
    "            movie_ids.append(item['imdbID'])\n",
    "        #get the search result and count the page number\n",
    "        total = int(data['totalResults'])\n",
    "        num_page = math.ceil(total/10)\n",
    "        #get the data from after page 2\n",
    "        for i in range(2, num_page+1):\n",
    "            url = ombd_url + '&s=' + query + '&page=' +str(i)\n",
    "            data = get_data(url)\n",
    "            if data:\n",
    "                for item in data['Search']:\n",
    "                    movie_ids.append(item['imdbID'])\n",
    "    return movie_ids"
   ]
  },
  {
   "cell_type": "code",
   "execution_count": 33,
   "metadata": {},
   "outputs": [],
   "source": [
    "def search_by_id(movie_id):\n",
    "    url = ombd_url + '&i=' + movie_id\n",
    "    data = get_data(url)\n",
    "    return data if data else None"
   ]
  },
  {
   "cell_type": "code",
   "execution_count": 34,
   "metadata": {},
   "outputs": [
    {
     "name": "stdout",
     "output_type": "stream",
     "text": [
      "The key word iron man have total 79 vedio\n",
      "Getting vedio data...\n",
      "Vedio Example\n",
      "{'Title': 'Iron Man', 'Year': '2008', 'Rated': 'PG-13', 'Released': '02 May 2008', 'Runtime': '126 min', 'Genre': 'Action, Adventure, Sci-Fi', 'Director': 'Jon Favreau', 'Writer': 'Mark Fergus (screenplay), Hawk Ostby (screenplay), Art Marcum (screenplay), Matt Holloway (screenplay), Stan Lee (characters), Don Heck (characters), Larry Lieber (characters), Jack Kirby (characters)', 'Actors': 'Robert Downey Jr., Terrence Howard, Jeff Bridges, Gwyneth Paltrow', 'Plot': 'After being held captive in an Afghan cave, billionaire engineer Tony Stark creates a unique weaponized suit of armor to fight evil.', 'Language': 'English, Persian, Urdu, Arabic, Hungarian', 'Country': 'USA', 'Awards': 'Nominated for 2 Oscars. Another 20 wins & 65 nominations.', 'Poster': 'https://m.media-amazon.com/images/M/MV5BMTczNTI2ODUwOF5BMl5BanBnXkFtZTcwMTU0NTIzMw@@._V1_SX300.jpg', 'Ratings': [{'Source': 'Internet Movie Database', 'Value': '7.9/10'}, {'Source': 'Rotten Tomatoes', 'Value': '93%'}, {'Source': 'Metacritic', 'Value': '79/100'}], 'Metascore': '79', 'imdbRating': '7.9', 'imdbVotes': '822,686', 'imdbID': 'tt0371746', 'Type': 'movie', 'DVD': '30 Sep 2008', 'BoxOffice': '$318,298,180', 'Production': 'Paramount Pictures', 'Website': 'http://www.ironmanmovie.com/', 'Response': 'True'}\n",
      "{'Title': 'Iron Man 3', 'Year': '2013', 'Rated': 'PG-13', 'Released': '03 May 2013', 'Runtime': '130 min', 'Genre': 'Action, Adventure, Sci-Fi', 'Director': 'Shane Black', 'Writer': 'Drew Pearce (screenplay by), Shane Black (screenplay by), Stan Lee (based on the Marvel comic book by), Don Heck (based on the Marvel comic book by), Larry Lieber (based on the Marvel comic book by), Jack Kirby (based on the Marvel comic book by), Warren Ellis (based on the \"Extremis\" mini-series written by), Adi Granov (based on the \"Extremis\" mini-series illustrated by)', 'Actors': 'Robert Downey Jr., Gwyneth Paltrow, Don Cheadle, Guy Pearce', 'Plot': \"When Tony Stark's world is torn apart by a formidable terrorist called the Mandarin, he starts an odyssey of rebuilding and retribution.\", 'Language': 'English', 'Country': 'China, USA', 'Awards': 'Nominated for 1 Oscar. Another 17 wins & 61 nominations.', 'Poster': 'https://m.media-amazon.com/images/M/MV5BMjE5MzcyNjk1M15BMl5BanBnXkFtZTcwMjQ4MjcxOQ@@._V1_SX300.jpg', 'Ratings': [{'Source': 'Internet Movie Database', 'Value': '7.2/10'}, {'Source': 'Rotten Tomatoes', 'Value': '80%'}, {'Source': 'Metacritic', 'Value': '62/100'}], 'Metascore': '62', 'imdbRating': '7.2', 'imdbVotes': '662,530', 'imdbID': 'tt1300854', 'Type': 'movie', 'DVD': '24 Sep 2013', 'BoxOffice': '$408,992,272', 'Production': 'Walt Disney Pictures', 'Website': 'http://IronManMovie3.com', 'Response': 'True'}\n",
      "{'Title': 'Iron Man 2', 'Year': '2010', 'Rated': 'PG-13', 'Released': '07 May 2010', 'Runtime': '124 min', 'Genre': 'Action, Sci-Fi', 'Director': 'Jon Favreau', 'Writer': 'Justin Theroux (screenplay), Stan Lee (Marvel comic book), Don Heck (Marvel comic book), Larry Lieber (Marvel comic book), Jack Kirby (Marvel comic book)', 'Actors': 'Robert Downey Jr., Gwyneth Paltrow, Don Cheadle, Scarlett Johansson', 'Plot': \"With the world now aware of his identity as Iron Man, Tony Stark must contend with both his declining health and a vengeful mad man with ties to his father's legacy.\", 'Language': 'English, French, Russian', 'Country': 'USA', 'Awards': 'Nominated for 1 Oscar. Another 7 wins & 42 nominations.', 'Poster': 'https://m.media-amazon.com/images/M/MV5BMTM0MDgwNjMyMl5BMl5BanBnXkFtZTcwNTg3NzAzMw@@._V1_SX300.jpg', 'Ratings': [{'Source': 'Internet Movie Database', 'Value': '7.0/10'}, {'Source': 'Rotten Tomatoes', 'Value': '73%'}, {'Source': 'Metacritic', 'Value': '57/100'}], 'Metascore': '57', 'imdbRating': '7.0', 'imdbVotes': '624,288', 'imdbID': 'tt1228705', 'Type': 'movie', 'DVD': '28 Sep 2010', 'BoxOffice': '$312,057,433', 'Production': 'Paramount Studios', 'Website': 'http://www.ironmanmovie.com/', 'Response': 'True'}\n",
      "The year that make out: Counter({'2013': 13, '2010': 10, '2008': 7, '2012': 5, '2014': 4, '2016': 4, '1998': 2, '2010–': 2, '1974': 2, '1931': 2, '2006': 2, '2018': 2, '1915': 2, '1914': 2, '1989': 1, '2017': 1, '2007': 1, '2015': 1, '2008–2012': 1, '1981': 1, '1994–1996': 1, '1977': 1, '1939': 1, '1956': 1, '1966–': 1, '1951': 1, '1993': 1, '1935': 1, '1985': 1, '1996': 1, '1997': 1, '1968–': 1, '1928': 1, '1903': 1})\n",
      "Average Rating: 6.271111111111111\n"
     ]
    }
   ],
   "source": [
    "keyword = 'iron man'\n",
    "m_ids = search_ids_by_keyword(keyword)\n",
    "print('The key word %s have total %d vedio' % (keyword, len(m_ids)))\n",
    "\n",
    "print('Getting vedio data...')\n",
    "movies = list()\n",
    "for m_id in m_ids:\n",
    "    movies.append(search_by_id(m_id))\n",
    "    \n",
    "print('Vedio Example')\n",
    "for m in movies[:3]:\n",
    "    print(m)\n",
    "    \n",
    "years = [m['Year'] for m in movies]\n",
    "# collections.Counter() will calculate a list of every item, and return a  dict\n",
    "year_dist = collections.Counter(years)\n",
    "print('The year that make out:', year_dist)\n",
    "\n",
    "#if this movie`s 'imdbRating' is`nt 'N/A then turn the vlue to float and put it in ratings'\n",
    "ratings = [float(m['imdbRating']) for m in movies if m['imdbRating'] != 'N/A']\n",
    "print('Average Rating:', sum(ratings)/len(ratings))"
   ]
  },
  {
   "cell_type": "code",
   "execution_count": null,
   "metadata": {},
   "outputs": [],
   "source": []
  }
 ],
 "metadata": {
  "kernelspec": {
   "display_name": "Python 3",
   "language": "python",
   "name": "python3"
  },
  "language_info": {
   "codemirror_mode": {
    "name": "ipython",
    "version": 3
   },
   "file_extension": ".py",
   "mimetype": "text/x-python",
   "name": "python",
   "nbconvert_exporter": "python",
   "pygments_lexer": "ipython3",
   "version": "3.6.7"
  }
 },
 "nbformat": 4,
 "nbformat_minor": 2
}
