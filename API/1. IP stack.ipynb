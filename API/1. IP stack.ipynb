{
 "cells": [
  {
   "cell_type": "code",
   "execution_count": 1,
   "metadata": {},
   "outputs": [],
   "source": [
    "from bs4 import BeautifulSoup as bs\n",
    "import time, requests, json,re\n",
    "from IPython.display import clear_output"
   ]
  },
  {
   "cell_type": "code",
   "execution_count": 2,
   "metadata": {},
   "outputs": [],
   "source": [
    "def get_web_page(url):\n",
    "    resp=requests.get(\n",
    "        url=url,\n",
    "        cookies={'over18':'1'})\n",
    "    if resp.status_code != 200:\n",
    "        print('Invalid url:', resp.url)\n",
    "        return None\n",
    "    else:\n",
    "        resp.encoding = 'utf-8'\n",
    "        return resp.text"
   ]
  },
  {
   "cell_type": "code",
   "execution_count": 3,
   "metadata": {},
   "outputs": [],
   "source": [
    "def get_ip(dom):\n",
    "    pattern = '來自: \\d+\\.\\d+\\.\\d+\\.\\d+'\n",
    "    match = re.search(pattern, dom)\n",
    "    if match:\n",
    "        return match.group(0).replace('來自: ', '')\n",
    "    else:\n",
    "        return None"
   ]
  },
  {
   "cell_type": "code",
   "execution_count": 4,
   "metadata": {},
   "outputs": [],
   "source": [
    "def get_country(ip):\n",
    "    if ip:\n",
    "        url = 'http://api.ipstack.com/{}?access_key={}'.format(ip,api_key)\n",
    "        print(url)\n",
    "        data = requests.get(url).json()\n",
    "        country_name = data['country_name'] if data['country_name'] else None\n",
    "        return country_name\n",
    "    return None"
   ]
  },
  {
   "cell_type": "code",
   "execution_count": 5,
   "metadata": {},
   "outputs": [],
   "source": [
    "def get_articles(dom, date):\n",
    "    soup = bs(dom,'html5lib')\n",
    "#     print(soup)\n",
    "    #Get previous page link\n",
    "    paging_div = soup.find('div','btn-group btn-group-paging')\n",
    "#     print(paging_div)\n",
    "    prev_url = paging_div.find_all('a')[1]['href']\n",
    "    \n",
    "    articles = []\n",
    "    divs = soup.find_all('div','r-ent')\n",
    "    push_count = 0\n",
    "    for d in divs:\n",
    "        if d.find('div', 'date').text.strip() == date:\n",
    "            clear_output(wait=True)\n",
    "            print(d.find('div', 'date').text.strip(), date)\n",
    "            push_count = 0\n",
    "            push_str = d.find('div', 'nrec').text\n",
    "            if push_str:\n",
    "                try:\n",
    "                    push_count = int(push_str)\n",
    "                except ValueError:\n",
    "                    # if transfer failure maybe is '爆', 'x1', 'x2'\n",
    "                    # if don`t do anything push_count keep 0\n",
    "                    if push_str == '爆':\n",
    "                        push_count == 99\n",
    "                    elif push_str.startswith('X'):\n",
    "                        push_count = -10\n",
    "            if d.find('a'): #Have hyperLink means paragraph exist else delete\n",
    "                href = d.find('a')['href']\n",
    "                title = d.find('a').text\n",
    "                author = d.find('div', 'author').text if d.find('div', 'author') else ''\n",
    "                articles.append({\n",
    "                    'title' : title,\n",
    "                    'href' : href,\n",
    "                    'push_count' : push_count,\n",
    "                    'author' : author\n",
    "                })          \n",
    "                print(articles[0]['title'],articles[0]['href'])\n",
    "    return articles, prev_url"
   ]
  },
  {
   "cell_type": "code",
   "execution_count": 6,
   "metadata": {},
   "outputs": [],
   "source": [
    "api_key = '0f446af799762c27cd408fa9919e041e'\n",
    "ppt_url = 'https://www.ptt.cc'"
   ]
  },
  {
   "cell_type": "code",
   "execution_count": 7,
   "metadata": {},
   "outputs": [
    {
     "name": "stdout",
     "output_type": "stream",
     "text": [
      "Search for IP: [新聞] 韓國瑜隨身攜茶葉 營養師：含兒茶素可提\n",
      "http://api.ipstack.com/124.217.249.24?access_key=0f446af799762c27cd408fa9919e041e\n",
      "Each country`s IP\n",
      "Taiwan 93\n",
      "France 2\n",
      "Japan 1\n",
      "United States 2\n",
      "South Korea 1\n",
      "Malaysia 1\n"
     ]
    }
   ],
   "source": [
    "print('get today`s article...')\n",
    "current_page = get_web_page(ppt_url +'/bbs/Gossiping/index.html')\n",
    "if current_page:\n",
    "    articles = []\n",
    "    today = time.strftime('%m/%d').lstrip('0')\n",
    "#     Today`s date\n",
    "    current_articles, prev_url = get_articles(current_page, today)\n",
    "#     today`s article in today`s date\n",
    "    while current_articles:\n",
    "        articles += current_articles\n",
    "        current_page = get_web_page(ppt_url + prev_url)\n",
    "        current_articles, prev_url = get_articles(current_page,today)\n",
    "    print('Total %d article' % (len(articles)))\n",
    "    \n",
    "    print('Taken recent 100 articles`s IP')\n",
    "    country_to_count = dict()\n",
    "    for article in articles[:100]:\n",
    "        clear_output(wait=True)\n",
    "        print('Search for IP:', article['title'])\n",
    "        page = get_web_page(ppt_url + article['href'])\n",
    "        if page:\n",
    "            ip = get_ip(page)\n",
    "            country = get_country(ip)\n",
    "            if country in country_to_count.keys():\n",
    "                country_to_count[country] += 1\n",
    "            else:\n",
    "                country_to_count[country] = 1\n",
    "    print('Each country`s IP')\n",
    "    for k, v in country_to_count.items():\n",
    "        print(k,v)\n",
    "        "
   ]
  },
  {
   "cell_type": "code",
   "execution_count": null,
   "metadata": {},
   "outputs": [],
   "source": []
  }
 ],
 "metadata": {
  "kernelspec": {
   "display_name": "Python 3",
   "language": "python",
   "name": "python3"
  },
  "language_info": {
   "codemirror_mode": {
    "name": "ipython",
    "version": 3
   },
   "file_extension": ".py",
   "mimetype": "text/x-python",
   "name": "python",
   "nbconvert_exporter": "python",
   "pygments_lexer": "ipython3",
   "version": "3.6.7"
  }
 },
 "nbformat": 4,
 "nbformat_minor": 2
}
