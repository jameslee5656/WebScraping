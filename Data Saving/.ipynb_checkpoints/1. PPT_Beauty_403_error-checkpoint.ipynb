{
 "cells": [
  {
   "cell_type": "code",
   "execution_count": 19,
   "metadata": {},
   "outputs": [],
   "source": [
    "from bs4 import BeautifulSoup as bs\n",
    "import time, json, os, re\n",
    "from IPython.display import clear_output\n",
    "import urllib.request"
   ]
  },
  {
   "cell_type": "code",
   "execution_count": 20,
   "metadata": {},
   "outputs": [],
   "source": [
    "url = 'https://www.ppt.cc/bbs/Beauty/index.html'"
   ]
  },
  {
   "cell_type": "code",
   "execution_count": 21,
   "metadata": {},
   "outputs": [],
   "source": [
    "def parse(dom):\n",
    "    soup = bs(dom, 'html.parser')\n",
    "    links = soup.find(id='main-content').find_all('a')\n",
    "    img_urls = []\n",
    "    for link in links:\n",
    "        if re.match(r'^https?://(I,)?(M.)?imgur.com', link['href']):\n",
    "            img_urls.append(link['href'])\n",
    "    return img_urls\n",
    "\n",
    "def save(img_urls,title):\n",
    "    if img_urls:\n",
    "        try:\n",
    "            dname = title.strip()\n",
    "            os.makedirs(dname)\n",
    "            for img_url in img_urls:\n",
    "                # e.g 'https://imgur.com/A2wmlqW.jpg'.split('//')\n",
    "                # the result is ['http:', 'imgur.com/A2wmlqW.jpg']\n",
    "                if img_url.split('//')[1].startswith('M.'):\n",
    "                    img_url = img_url.replace('//M.','//i,')\n",
    "                if not img_url.split('//')[1].startswith('i.'):\n",
    "                    img_url = img_url.split('//')[0] + '//i.' + img_url.split('//')\n",
    "                if not img_url.endswith('.jpg'):\n",
    "                    img_url += '.jpg'\n",
    "                fname - img_url.split('/')[-1]\n",
    "                urllub.request.urlretrueve(img_url, os.path.join(dname,fname))\n",
    "        except Exception as e:\n",
    "                print(e)"
   ]
  },
  {
   "cell_type": "code",
   "execution_count": 23,
   "metadata": {},
   "outputs": [],
   "source": [
    "def get_articles(dom, date):\n",
    "    soup = bs(dom,'html5lib')\n",
    "    \n",
    "    #Get previous page link\n",
    "    paging_div = soup.find('div','btn-group btn-group-paging')\n",
    "    prev_url = paging_div.find_all('a')[1]['href']\n",
    "    \n",
    "    articles = []\n",
    "    divs = soup.find_all('div','r-ent')\n",
    "    push_count = 0\n",
    "    for d in divs:\n",
    "        if d.find('div', 'date').text.strip() == date:\n",
    "            clear_output(wait=True)\n",
    "            print(d.find('div', 'date').text.strip(), date)\n",
    "            push_count = 0\n",
    "            push_str = d.find('div', 'nrec').text\n",
    "            if push_str:\n",
    "                try:\n",
    "                    push_count = int(push_str)\n",
    "                except ValueError:\n",
    "                    # if transfer failure maybe is '爆', 'x1', 'x2'\n",
    "                    # if don`t do anything push_count keep 0\n",
    "                    if push_str == '爆':\n",
    "                        push_count == 99\n",
    "                    elif push_str.startswith('X'):\n",
    "                        push_count = -10\n",
    "            if d.find('a'): #Have hyperLink means paragraph exist else delete\n",
    "                href = d.find('a')['href']\n",
    "                title = d.find('a').text\n",
    "                author = d.find('div', 'author').text if d.find('div', 'author') else ''\n",
    "                articles.append({\n",
    "                    'title' : title,\n",
    "                    'href' : href,\n",
    "                    'push_count' : push_count,\n",
    "                    'author' : author\n",
    "                })          \n",
    "                print(articles[0]['title'],articles[0]['href'])\n",
    "    return articles, prev_url"
   ]
  },
  {
   "cell_type": "code",
   "execution_count": 24,
   "metadata": {},
   "outputs": [],
   "source": [
    "def get_web_page(url):\n",
    "    resp=requests.get(\n",
    "        url=url,\n",
    "        cookies={'over18':'1'})\n",
    "    if resp.status_code != 200:\n",
    "        print('Invalid url:', resp.url)\n",
    "        return None\n",
    "    else:\n",
    "        return resp.text"
   ]
  },
  {
   "cell_type": "code",
   "execution_count": 25,
   "metadata": {},
   "outputs": [
    {
     "name": "stdout",
     "output_type": "stream",
     "text": [
      "1/20 1/20\n",
      "[正妹] 2個都可以 /bbs/Beauty/M.1547913832.A.F6D.html\n",
      "Today have this many article:  17\n",
      "Processing {'title': '[正妹] 有氣質的正妹英文老師', 'href': '/bbs/Beauty/M.1547941407.A.7F0.html', 'push_count': 91, 'author': 'liniuan'}\n",
      "Processing {'title': '[公告] tupolevtu95、lion1218 水桶', 'href': '/bbs/Beauty/M.1547951271.A.573.html', 'push_count': 2, 'author': 'GeminiMan'}\n",
      "Processing {'title': '[正妹] 蘆筍美人腿', 'href': '/bbs/Beauty/M.1547961446.A.223.html', 'push_count': 1, 'author': 'n123456n'}\n",
      "Processing {'title': '[正妹]  有一個大膽的想法', 'href': '/bbs/Beauty/M.1547963191.A.4E4.html', 'push_count': 9, 'author': 'gto3ping'}\n",
      "Processing {'title': '[公告] tupolevtu95 永久水桶 & 水桶名單', 'href': '/bbs/Beauty/M.1547963553.A.688.html', 'push_count': 25, 'author': 'GeminiMan'}\n",
      "Processing {'title': '[正妹] 結衣穿浴衣', 'href': '/bbs/Beauty/M.1547964983.A.99B.html', 'push_count': 46, 'author': 'kochava'}\n",
      "must be str, not list\n",
      "Processing {'title': '[帥哥] 英亜 英蘭', 'href': '/bbs/Beauty/M.1547975804.A.2DE.html', 'push_count': 1, 'author': 'ReiKuromiya'}\n",
      "Processing {'title': '[正妹] 妹仔跟Iron Man', 'href': '/bbs/Beauty/M.1547983192.A.3B8.html', 'push_count': 0, 'author': 'ppkqaz'}\n",
      "Processing {'title': '[正妹] 乃木坂46 鈴木愛理 in TGCしずおか2019', 'href': '/bbs/Beauty/M.1547986241.A.274.html', 'push_count': 4, 'author': 'ATCTaiwan'}\n",
      "must be str, not list\n",
      "Processing {'title': '[正妹] 甜甜的', 'href': '/bbs/Beauty/M.1547986629.A.620.html', 'push_count': 2, 'author': 'xu3ru8vmp'}\n",
      "must be str, not list\n",
      "Processing {'title': '[正妹] 于文文', 'href': '/bbs/Beauty/M.1547987193.A.1DA.html', 'push_count': 20, 'author': 'james7923'}\n",
      "Processing {'title': '[正妹] 出賣妹妹的老師', 'href': '/bbs/Beauty/M.1547991368.A.9B3.html', 'push_count': 2, 'author': 'LoMing1021'}\n",
      "Processing {'title': '[正妹] 2個都可以', 'href': '/bbs/Beauty/M.1547913832.A.F6D.html', 'push_count': 8, 'author': 'yingrenhao'}\n",
      "Processing {'title': '[正妹] 烏特(55)', 'href': '/bbs/Beauty/M.1547915645.A.D2A.html', 'push_count': 1, 'author': 'LaurenceS'}\n",
      "Processing {'title': '[正妹] 肌特(25)', 'href': '/bbs/Beauty/M.1547916496.A.C56.html', 'push_count': 1, 'author': 'LaurenceS'}\n",
      "Processing {'title': '[正妹] 泰國 18歲學生妹', 'href': '/bbs/Beauty/M.1547916611.A.247.html', 'push_count': 29, 'author': 'ditgl'}\n",
      "Processing {'title': '[正妹] sana的汗液', 'href': '/bbs/Beauty/M.1547916619.A.48D.html', 'push_count': 31, 'author': 'ReiKuromiya'}\n"
     ]
    }
   ],
   "source": [
    "ppt_url = 'https://www.ptt.cc'\n",
    "current_page = get_web_page(ppt_url + '/bbs/Beauty/index.html')\n",
    "if current_page:\n",
    "    articles = []\n",
    "    today = time.strftime(\"%m/%d\").lstrip('0')\n",
    "    \n",
    "    current_articles, prev_url =get_articles(current_page, today)\n",
    "    \n",
    "    \n",
    "    while current_articles:\n",
    "        articles += current_articles\n",
    "        current_page = get_web_page(ppt_url + prev_url)\n",
    "        current_articles, prev_url = get_articles(current_page, today)\n",
    "    print('Today have this many article: ', len(articles))\n",
    "    for article in articles:\n",
    "        clear_output(one_c)\n",
    "        clear_output(wait=True)\n",
    "        print('Processing',article)\n",
    "        page = get_web_page(ppt_url + article['href'])\n",
    "        if page:\n",
    "            img_urls = parse(page)\n",
    "            save(img_urls, article['title'])\n",
    "            article['num_image'] = len(img_urls)\n",
    "    with open('data.json', 'w', encoding='utf-8') as f:\n",
    "        json.dump(articles, f, indent=2, sort_keys=True, ensure_ascii=False)"
   ]
  },
  {
   "cell_type": "code",
   "execution_count": null,
   "metadata": {},
   "outputs": [],
   "source": []
  }
 ],
 "metadata": {
  "kernelspec": {
   "display_name": "Python 3",
   "language": "python",
   "name": "python3"
  },
  "language_info": {
   "codemirror_mode": {
    "name": "ipython",
    "version": 3
   },
   "file_extension": ".py",
   "mimetype": "text/x-python",
   "name": "python",
   "nbconvert_exporter": "python",
   "pygments_lexer": "ipython3",
   "version": "3.6.7"
  }
 },
 "nbformat": 4,
 "nbformat_minor": 2
}
