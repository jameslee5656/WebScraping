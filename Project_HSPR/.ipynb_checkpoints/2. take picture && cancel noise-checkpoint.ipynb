{
 "cells": [
  {
   "cell_type": "code",
   "execution_count": 1,
   "metadata": {},
   "outputs": [],
   "source": [
    "from PIL import Image\n",
    "from sklearn.preprocessing import binarize\n",
    "from sklearn.preprocessing import PolynomialFeatures\n",
    "from sklearn.linear_model import LinearRegression\n",
    "from selenium import webdriver\n",
    "from io import BytesIO\n",
    "import matplotlib.pyplot as plt\n",
    "import cv2\n",
    "import numpy as np\n",
    "import time\n",
    "import pyautogui\n",
    "import  time"
   ]
  },
  {
   "cell_type": "code",
   "execution_count": 12,
   "metadata": {},
   "outputs": [
    {
     "name": "stdout",
     "output_type": "stream",
     "text": [
      "{'x': 76, 'y': 8}\n",
      "{'width': 1200, 'height': 883}\n"
     ]
    }
   ],
   "source": [
    "# driver = webdriver.Chrome('G:/WebScraping/Project_HSPR/driver/chromedriver.exe')\n",
    "driver = .Firefox()\n",
    "driver.get('https://www.google.com.tw/')\n",
    "# driver.set_window_size(480, 320)\n",
    "png = driver.get_screenshot_as_png()\n",
    "\n",
    "element = driver.find_element_by_id('hplogo')\n",
    "baseLocation = driver.get_window_position()\n",
    "print(baseLocation)\n",
    "print(driver.get_window_size())\n",
    "left = element.location['x']\n",
    "right = left + element.size['width']\n",
    "top = element.location['y']\n",
    "bottom = top + element.size['height']\n",
    "img = Image.open(BytesIO(png))\n",
    "img = img.crop((left, top, right, bottom))\n",
    "img.show()"
   ]
  },
  {
   "cell_type": "code",
   "execution_count": 31,
   "metadata": {},
   "outputs": [],
   "source": [
    "driver = webdriver.Chrome('G:/WebScraping/Project_HSPR/driver/chromedriver.exe')\n",
    "# driver.set_window_size(1536, 867)\n",
    "driver.get('https://irs.thsrc.com.tw/IMINT/')\n",
    "try:\n",
    "    driver.find_element_by_xpath('/html/body/div[3]/div[2]/div[1]/div[1]/div[2]/table/tbody/tr/td/input').click()\n",
    "except Exception as e: \n",
    "    print(str(e))\n",
    "    pass\n",
    "png = driver.get_screenshot_as_png()\n",
    "element = driver.find_element_by_id('BookingS1Form_homeCaptcha_passCode')"
   ]
  },
  {
   "cell_type": "code",
   "execution_count": 32,
   "metadata": {},
   "outputs": [
    {
     "name": "stdout",
     "output_type": "stream",
     "text": [
      "{'x': 521, 'y': 508}\n",
      "{'height': 50, 'width': 129}\n"
     ]
    }
   ],
   "source": [
    "print(element.location)\n",
    "print(element.size)\n",
    "left = element.location['x']\n",
    "right = element.location['x'] + element.size['width']\n",
    "top = element.location['y']\n",
    "bottom = element.location['y'] + element.size['height']"
   ]
  },
  {
   "cell_type": "code",
   "execution_count": 33,
   "metadata": {},
   "outputs": [
    {
     "data": {
      "text/plain": [
       "(521, 650, 508, 558)"
      ]
     },
     "execution_count": 33,
     "metadata": {},
     "output_type": "execute_result"
    }
   ],
   "source": [
    "left, right, top, bottom"
   ]
  },
  {
   "cell_type": "code",
   "execution_count": 34,
   "metadata": {},
   "outputs": [],
   "source": [
    "img = Image.open(BytesIO(png))\n",
    "img = img.crop((left, top, right, bottom))\n",
    "img.show()"
   ]
  },
  {
   "cell_type": "code",
   "execution_count": 6,
   "metadata": {},
   "outputs": [],
   "source": [
    "# learn from https://www.youtube.com/watch?v=4DHcOPSfC4c&feature=youtu.be\n",
    "def cancel_noise(path):\n",
    "    img = cv2.imread(path)\n",
    "    dst = cv2.fastNlMeansDenoisingColored(img,None,30,30,7,21)\n",
    "    ret, thresh = cv2.threshold(dst,127,255,cv2.THRESH_BINARY_INV)\n",
    "    imgarr = cv2.cvtColor(thresh, cv2.COLOR_BGR2GRAY)\n",
    "    rang = imgarr.shape\n",
    "    imgarr[:,5:rang[1]-5] = 0\n",
    "    imagedata = np.where(imgarr == 255)\n",
    "    X = np.array([imagedata[1]])\n",
    "    Y = rang[0] - imagedata[0]\n",
    "    poly_reg = PolynomialFeatures(degree = 2)\n",
    "    X_ = poly_reg.fit_transform(X.T)\n",
    "    regr = LinearRegression()\n",
    "    regr.fit(X_, Y)\n",
    "\n",
    "    X2 = np.array([[i for i in range(0,136)]])\n",
    "    X2\n",
    "    X2_ = poly_reg.fit_transform(X2.T)\n",
    "\n",
    "    newimg = cv2.cvtColor(thresh, cv2.COLOR_BGR2GRAY)\n",
    "\n",
    "    for ele in np.column_stack([regr.predict(X2_).round(0),X2[0],]):\n",
    "        pos = 47-int(ele[0])\n",
    "        newimg[pos-3:pos+3,int(ele[1])] = 255 - newimg[pos-3:pos+3,int(ele[1])]\n",
    "    return newimg"
   ]
  },
  {
   "cell_type": "code",
   "execution_count": 7,
   "metadata": {},
   "outputs": [
    {
     "ename": "TypeError",
     "evalue": "cancel_noise() missing 1 required positional argument: 'path'",
     "output_type": "error",
     "traceback": [
      "\u001b[1;31m---------------------------------------------------------------------------\u001b[0m",
      "\u001b[1;31mTypeError\u001b[0m                                 Traceback (most recent call last)",
      "\u001b[1;32m<ipython-input-7-dff60081e2ce>\u001b[0m in \u001b[0;36m<module>\u001b[1;34m()\u001b[0m\n\u001b[0;32m      2\u001b[0m \u001b[1;31m# plt.imshow(thresh)\u001b[0m\u001b[1;33m\u001b[0m\u001b[1;33m\u001b[0m\u001b[0m\n\u001b[0;32m      3\u001b[0m \u001b[1;31m# plt.subplot(122)\u001b[0m\u001b[1;33m\u001b[0m\u001b[1;33m\u001b[0m\u001b[0m\n\u001b[1;32m----> 4\u001b[1;33m \u001b[0mnewimg\u001b[0m \u001b[1;33m=\u001b[0m \u001b[0mcancel_noise\u001b[0m\u001b[1;33m(\u001b[0m\u001b[1;33m)\u001b[0m\u001b[1;33m\u001b[0m\u001b[0m\n\u001b[0m\u001b[0;32m      5\u001b[0m \u001b[0mplt\u001b[0m\u001b[1;33m.\u001b[0m\u001b[0mimshow\u001b[0m\u001b[1;33m(\u001b[0m\u001b[0mnewimg\u001b[0m\u001b[1;33m)\u001b[0m\u001b[1;33m\u001b[0m\u001b[0m\n\u001b[0;32m      6\u001b[0m \u001b[0mplt\u001b[0m\u001b[1;33m.\u001b[0m\u001b[0mshow\u001b[0m\u001b[1;33m(\u001b[0m\u001b[1;33m)\u001b[0m\u001b[1;33m\u001b[0m\u001b[0m\n",
      "\u001b[1;31mTypeError\u001b[0m: cancel_noise() missing 1 required positional argument: 'path'"
     ]
    }
   ],
   "source": [
    "# plt.subplot(121)\n",
    "# plt.imshow(thresh)\n",
    "# plt.subplot(122)\n",
    "newimg = cancel_noise()\n",
    "plt.imshow(newimg)\n",
    "plt.show()"
   ]
  },
  {
   "cell_type": "code",
   "execution_count": null,
   "metadata": {},
   "outputs": [],
   "source": []
  }
 ],
 "metadata": {
  "kernelspec": {
   "display_name": "Python 3",
   "language": "python",
   "name": "python3"
  },
  "language_info": {
   "codemirror_mode": {
    "name": "ipython",
    "version": 3
   },
   "file_extension": ".py",
   "mimetype": "text/x-python",
   "name": "python",
   "nbconvert_exporter": "python",
   "pygments_lexer": "ipython3",
   "version": "3.6.7"
  }
 },
 "nbformat": 4,
 "nbformat_minor": 2
}
