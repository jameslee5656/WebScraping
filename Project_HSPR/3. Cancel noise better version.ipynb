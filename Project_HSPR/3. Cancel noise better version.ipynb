{
 "cells": [
  {
   "cell_type": "code",
   "execution_count": 1,
   "metadata": {},
   "outputs": [],
   "source": [
    "from PIL import Image\n",
    "from sklearn.preprocessing import binarize\n",
    "from sklearn.preprocessing import PolynomialFeatures\n",
    "from sklearn.linear_model import LinearRegression\n",
    "from selenium import webdriver\n",
    "from io import BytesIO\n",
    "from bs4 import BeautifulSoup as bs\n",
    "from IPython.display import clear_output\n",
    "import matplotlib.pyplot as plt\n",
    "import cv2,time,requests,time, scipy\n",
    "import numpy as np \n",
    "import pyscreenshot as ImageGrab\n",
    "import os,imageio"
   ]
  },
  {
   "cell_type": "code",
   "execution_count": 103,
   "metadata": {},
   "outputs": [
    {
     "data": {
      "image/png": "[encoded data removed]",
      "text/plain": [
       "<Figure size 432x288 with 1 Axes>"
      ]
     },
     "metadata": {
      "needs_background": "light"
     },
     "output_type": "display_data"
    }
   ],
   "source": [
    "path = 'G:/WebScraping/Project_HSPR/trainingdata/unfinished_label/'\n",
    "img = cv2.imread(path + str(11) + '.png')\n",
    "dst = cv2.fastNlMeansDenoisingColored(img,None,25,25,7,21)\n",
    "\n",
    "# plt.imshow(img)\n",
    "# plt.show()\n",
    "# plt.imshow(dst)\n",
    "# plt.show()\n",
    "ret, thresh = cv2.threshold(dst,127,255,cv2.THRESH_BINARY_INV)\n",
    "# plt.imshow(thresh)\n",
    "# plt.show()\n",
    "imgarr = cv2.cvtColor(thresh, cv2.COLOR_BGR2GRAY)\n",
    "# plt.imshow(imgarr)\n",
    "# plt.show()\n",
    "rang = imgarr.shape\n",
    "imgarr[:,5:rang[1]-5] = 0 #no need for too much\n",
    "imagedata = np.where(imgarr == 255)\n",
    "X = np.array([imagedata[1]])\n",
    "Y = rang[0] - imagedata[0]\n",
    "poly_reg = PolynomialFeatures(degree = 2)\n",
    "X_ = poly_reg.fit_transform(X.T)\n",
    "regr = LinearRegression()\n",
    "regr.fit(X_, Y)\n",
    "X2 = np.array([[i for i in range(0,rang[1])]])\n",
    "X2_ = poly_reg.fit_transform(X2.T)\n",
    "\n",
    "# plt.scatter(X,Y,color='black')\n",
    "# plt.ylim(ymin=0)\n",
    "# plt.ylim(ymax=rang[0])\n",
    "# plt.plot(X2.T, regr.predict(X2_), color='blue', linewidth=20)\n",
    "# print('Coefficient:{}'.format(regr.coef_))\n",
    "# print('Intercept:{}'.format(regr.coef_))\n",
    "\n",
    "\n",
    "newimg = cv2.cvtColor(thresh, cv2.COLOR_BGR2GRAY)\n",
    "\n",
    "# plt.imshow(newimg)\n",
    "# plt.show()\n",
    "\n",
    "for ele in np.column_stack([regr.predict(X2_).round(0),X2[0],]):\n",
    "    pos = rang[0]-int(ele[0])\n",
    "#     newimg[pos-4:pos+3,int(ele[1])] = 0\n",
    "    newimg[pos-3:pos+3,int(ele[1])] = 255 - newimg[pos-3:pos+3,int(ele[1])]\n",
    "\n",
    "# print(type(newimg))\n",
    "# converted_img = cv2.cvtColor(newimg, cv2.COLOR_GRAY2BGR)\n",
    "# newimg2 = cv2.fastNlMeansDenoisingColored(converted_img,None,25,25,9,20)\n",
    "# newimg3 = cv2.cvtColor(newimg2, cv2.COLOR_BGR2GRAY)\n",
    "\n",
    "plt.imshow(newimg)\n",
    "plt.show()\n",
    "# plt.imshow(newimg3)\n",
    "# plt.show()\n",
    "# return thresh, newimg"
   ]
  },
  {
   "cell_type": "code",
   "execution_count": null,
   "metadata": {},
   "outputs": [],
   "source": []
  }
 ],
 "metadata": {
  "kernelspec": {
   "display_name": "Python 3",
   "language": "python",
   "name": "python3"
  },
  "language_info": {
   "codemirror_mode": {
    "name": "ipython",
    "version": 3
   },
   "file_extension": ".py",
   "mimetype": "text/x-python",
   "name": "python",
   "nbconvert_exporter": "python",
   "pygments_lexer": "ipython3",
   "version": "3.6.7"
  }
 },
 "nbformat": 4,
 "nbformat_minor": 2
}
