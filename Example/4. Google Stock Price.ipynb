{
 "cells": [
  {
   "cell_type": "code",
   "execution_count": 1,
   "metadata": {},
   "outputs": [],
   "source": [
    "from bs4 import BeautifulSoup as bs\n",
    "import time, requests, json, re\n",
    "from IPython.display import clear_output"
   ]
  },
  {
   "cell_type": "code",
   "execution_count": 12,
   "metadata": {},
   "outputs": [],
   "source": [
    "url = 'https://www.google.com/search?q='"
   ]
  },
  {
   "cell_type": "code",
   "execution_count": 42,
   "metadata": {},
   "outputs": [],
   "source": [
    "def get_web_page(url, stock_id):\n",
    "    headers = {'User-Agent': 'Mozilla/5.0 (X11; Linux x86_64) '\n",
    "                         'AppleWebKit/537.36 (KHTML, like Gecko) ' \n",
    "                         'Chrome/70.0.3538.77 Safari/537.36'}\n",
    "    resp = requests.get(url + stock_id, headers=headers)\n",
    "    if resp.status_code != 200:\n",
    "        print('Invalid url:', resp.url)\n",
    "        return None\n",
    "    else:\n",
    "        return resp.text\n",
    "def get_stock_info(dom):\n",
    "    soup = bs(dom, 'html5lib')\n",
    "    stock = dict()\n",
    "    sections = soup.find_all('g-card-section')\n",
    "    #the second g-card-section, take out company name and sock information\n",
    "    stock['name'] = sections[1].div.text\n",
    "    \n",
    "    spans = sections[1].find_all('div', recursive=False)\n",
    "    stock['current_price'] = spans[0].text\n",
    "    stock['current_change'] = spans[1].text\n",
    "    for table in sections[3].find_all('table'):\n",
    "        for tr in table.find_all('tr')[:3] :\n",
    "            key = tr.find_all('td')[0].text.lower().strip()\n",
    "            value = tr.find_all('td')[1].text.strip()\n",
    "            stock[key] = value\n",
    "    return stock"
   ]
  },
  {
   "cell_type": "code",
   "execution_count": 43,
   "metadata": {},
   "outputs": [],
   "source": [
    "dom = '''\n",
    "  <span level=1>\n",
    "    <span level=2>2.1</span>\n",
    "  </span>\n",
    "  <span level=1>\n",
    "    <span level=2>2.2</span>\n",
    "  </span>\n",
    "'''\n",
    "\n",
    "soup = bs(dom, 'html.parser')"
   ]
  },
  {
   "cell_type": "code",
   "execution_count": 44,
   "metadata": {},
   "outputs": [
    {
     "name": "stdout",
     "output_type": "stream",
     "text": [
      "4\n",
      "2\n"
     ]
    }
   ],
   "source": [
    "print(len(soup.find_all('span')))\n",
    "print(len(soup.find_all('span', recursive=False)))"
   ]
  },
  {
   "cell_type": "code",
   "execution_count": 45,
   "metadata": {},
   "outputs": [
    {
     "name": "stdout",
     "output_type": "stream",
     "text": [
      "name 台灣積體電路製造TPE: 2330\n",
      "current_price 台灣積體電路製造TPE: 2330\n",
      "current_change 218.50 TWD −2.00 (0.91%)\n",
      "開盤 219.00\n",
      "最高 220.00\n",
      "最低 217.50\n",
      "殖利率 3.66%\n",
      "上次收盤價 220.50\n",
      "52 週高點 270.50\n"
     ]
    }
   ],
   "source": [
    "page = get_web_page(url, 'TPE:2330')\n",
    "if page:\n",
    "    stock = get_stock_info(page)\n",
    "    for k, v in stock.items():\n",
    "        print(k,v)"
   ]
  },
  {
   "cell_type": "code",
   "execution_count": null,
   "metadata": {},
   "outputs": [],
   "source": []
  }
 ],
 "metadata": {
  "kernelspec": {
   "display_name": "Python 3",
   "language": "python",
   "name": "python3"
  },
  "language_info": {
   "codemirror_mode": {
    "name": "ipython",
    "version": 3
   },
   "file_extension": ".py",
   "mimetype": "text/x-python",
   "name": "python",
   "nbconvert_exporter": "python",
   "pygments_lexer": "ipython3",
   "version": "3.6.7"
  }
 },
 "nbformat": 4,
 "nbformat_minor": 2
}
