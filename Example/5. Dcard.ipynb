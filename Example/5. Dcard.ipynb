{
 "cells": [
  {
   "cell_type": "code",
   "execution_count": 1,
   "metadata": {},
   "outputs": [],
   "source": [
    "from bs4 import BeautifulSoup as bs\n",
    "import time, requests, json, re\n",
    "from IPython.display import clear_output"
   ]
  },
  {
   "cell_type": "code",
   "execution_count": 14,
   "metadata": {},
   "outputs": [
    {
     "name": "stdout",
     "output_type": "stream",
     "text": [
      "[]\n"
     ]
    }
   ],
   "source": [
    "url = 'https://www.dcard.tw/f'\n",
    "resp = requests.get(url)\n",
    "soup = bs(resp.text, 'lxml')\n",
    "articles = [] \n",
    "print(soup.find_all('div', re.compile('PostEntry_content_\\w{6}')))\n",
    "for div in soup.find_all('div', re.compile('PostEntry_content_\\w{5}')):\n",
    "    \n",
    "    articles.append(\n",
    "        {'title': div.h3.text.strip(),\n",
    "         'except': div.find_all('div')[0].text.strip(),\n",
    "         'bookmark': re.find_all(r'\\d+', div.find_all('div')[1].text.strip())[0],\n",
    "         'response': re.find_all(r'\\d+', div.find_all('div')[1].text.strip())[1],\n",
    "         'href': div.aprent.parent['href']\n",
    "        }\n",
    "    )\n",
    "    print('Total %d articles' %len(articles))\n",
    "    for a in articles[:3]:\n",
    "        print(a)"
   ]
  },
  {
   "cell_type": "code",
   "execution_count": 19,
   "metadata": {},
   "outputs": [
    {
     "name": "stdout",
     "output_type": "stream",
     "text": [
      "<Response [503]>\n"
     ]
    }
   ],
   "source": [
    "print(resp)"
   ]
  },
  {
   "cell_type": "code",
   "execution_count": null,
   "metadata": {},
   "outputs": [],
   "source": []
  }
 ],
 "metadata": {
  "kernelspec": {
   "display_name": "Python 3",
   "language": "python",
   "name": "python3"
  },
  "language_info": {
   "codemirror_mode": {
    "name": "ipython",
    "version": 3
   },
   "file_extension": ".py",
   "mimetype": "text/x-python",
   "name": "python",
   "nbconvert_exporter": "python",
   "pygments_lexer": "ipython3",
   "version": "3.6.7"
  }
 },
 "nbformat": 4,
 "nbformat_minor": 2
}
