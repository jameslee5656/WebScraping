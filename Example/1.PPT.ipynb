{
 "cells": [
  {
   "cell_type": "code",
   "execution_count": null,
   "metadata": {},
   "outputs": [],
   "source": [
    "from bs4 import BeatifulSoup as bs"
   ]
  },
  {
   "cell_type": "code",
   "execution_count": 1,
   "metadata": {},
   "outputs": [],
   "source": [
    "def get_web_page(url):\n",
    "    resp=request.get(\n",
    "        url=url,\n",
    "        cookies={'over18':'1'})\n",
    "    if resp.status_code != 200:\n",
    "        print('Invalid url:', resp.url)\n",
    "        return None\n",
    "    else:\n",
    "        return resp.text"
   ]
  },
  {
   "cell_type": "code",
   "execution_count": 2,
   "metadata": {},
   "outputs": [],
   "source": [
    "def get_articles(dom, date):\n",
    "    soup = bs(dom,'html5lib')\n",
    "    \n",
    "    #Get previous page link\n",
    "    paging_div = soup.find('div','btn-group btn-group-paging')\n",
    "    prev_url = paging_div.find_all('a')[1]['href']\n",
    "    \n",
    "    articles = []\n",
    "    divs = soup.find_all('div','r-ent')\n",
    "    for d in divs:\n",
    "        if d.find('div', 'date').text.strip() == date:\n",
    "            push_count = 0\n",
    "            push_str = d.find('div', 'nrec').text\n",
    "            if push_str:\n",
    "                try:\n",
    "                    push_count = int(push_str)\n",
    "                except ValueError:\n",
    "                    # if transfer failure maybe is '爆', 'x1', 'x2'\n",
    "                    # if don`t do anything push_count keep 0\n",
    "                    if push_str == '爆':\n",
    "                        push_count == 99\n",
    "                    elif push_str.startswith('X'):\n",
    "                        push_count = -10\n",
    "        if d.find('a'): #Have hyperLink means paragraph exist else delete\n",
    "            href = d.find('a')['href']\n",
    "            title = d.find('a').text\n",
    "            author = d.find('div', 'author').text if d.find('div', 'author') else ''\n",
    "            articles.append({\n",
    "                'title' : title,\n",
    "                'href' : href,\n",
    "                'push_count' : push_count,\n",
    "                'author' : author\n",
    "            })\n",
    "    return articles, prev_url"
   ]
  },
  {
   "cell_type": "code",
   "execution_count": null,
   "metadata": {},
   "outputs": [],
   "source": [
    "ppt_url = 'https://www.ptt.cc/bbs'\n",
    "current_page = get_web_page(ppt_url + '/bbs/Gossiping/index.html')"
   ]
  }
 ],
 "metadata": {
  "kernelspec": {
   "display_name": "Python 3",
   "language": "python",
   "name": "python3"
  },
  "language_info": {
   "codemirror_mode": {
    "name": "ipython",
    "version": 3
   },
   "file_extension": ".py",
   "mimetype": "text/x-python",
   "name": "python",
   "nbconvert_exporter": "python",
   "pygments_lexer": "ipython3",
   "version": "3.6.5"
  }
 },
 "nbformat": 4,
 "nbformat_minor": 2
}
