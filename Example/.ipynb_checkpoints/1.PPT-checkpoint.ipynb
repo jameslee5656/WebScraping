{
 "cells": [
  {
   "cell_type": "code",
   "execution_count": 1,
   "metadata": {},
   "outputs": [],
   "source": [
    "from bs4 import BeautifulSoup as bs\n",
    "import time, requests\n",
    "from IPython.display import clear_output"
   ]
  },
  {
   "cell_type": "code",
   "execution_count": 2,
   "metadata": {},
   "outputs": [],
   "source": [
    "def get_web_page(url):\n",
    "    resp=requests.get(\n",
    "        url=url,\n",
    "        cookies={'over18':'1'})\n",
    "    if resp.status_code != 200:\n",
    "        print('Invalid url:', resp.url)\n",
    "        return None\n",
    "    else:\n",
    "        return resp.text"
   ]
  },
  {
   "cell_type": "code",
   "execution_count": 3,
   "metadata": {},
   "outputs": [],
   "source": [
    "def get_articles(dom, date):\n",
    "    soup = bs(dom,'html5lib')\n",
    "    \n",
    "    #Get previous page link\n",
    "    paging_div = soup.find('div','btn-group btn-group-paging')\n",
    "    prev_url = paging_div.find_all('a')[1]['href']\n",
    "    \n",
    "    articles = []\n",
    "    divs = soup.find_all('div','r-ent')\n",
    "    push_count = 0\n",
    "    for d in divs:\n",
    "        if d.find('div', 'date').text.strip() == date:\n",
    "            clear_output(wait=True)\n",
    "            print(d.find('div', 'date').text.strip(), date)\n",
    "            push_count = 0\n",
    "            push_str = d.find('div', 'nrec').text\n",
    "            if push_str:\n",
    "                try:\n",
    "                    push_count = int(push_str)\n",
    "                except ValueError:\n",
    "                    # if transfer failure maybe is '爆', 'x1', 'x2'\n",
    "                    # if don`t do anything push_count keep 0\n",
    "                    if push_str == '爆':\n",
    "                        push_count == 99\n",
    "                    elif push_str.startswith('X'):\n",
    "                        push_count = -10\n",
    "        if d.find('a'): #Have hyperLink means paragraph exist else delete\n",
    "            href = d.find('a')['href']\n",
    "            title = d.find('a').text\n",
    "            author = d.find('div', 'author').text if d.find('div', 'author') else ''\n",
    "            articles.append({\n",
    "                'title' : title,\n",
    "                'href' : href,\n",
    "                'push_count' : push_count,\n",
    "                'author' : author\n",
    "            })          \n",
    "            print(articles[0]['title'],articles[0]['href'])\n",
    "    return articles, prev_url"
   ]
  },
  {
   "cell_type": "code",
   "execution_count": null,
   "metadata": {},
   "outputs": [
    {
     "name": "stdout",
     "output_type": "stream",
     "text": [
      "[問卦] 補班日同學都有空出來，代表甚麼？ /bbs/Gossiping/M.1547862030.A.68A.html\n"
     ]
    }
   ],
   "source": [
    "ppt_url = 'https://www.ptt.cc'\n",
    "current_page = get_web_page(ppt_url + '/bbs/Gossiping/index.html')\n",
    "if current_page:\n",
    "    articles = []\n",
    "    today = time.strftime(\"%m/%d\").lstrip('0')\n",
    "    \n",
    "    current_articles, prev_url =get_articles(current_page, today)\n",
    "    \n",
    "    while current_articles:\n",
    "        articles += current_articles\n",
    "        current_page = get_web_page(ppt_url + prev_url)\n",
    "        current_articles, prev_url = get_articles(current_page, today)\n",
    "    print('Today have this many article: ', len(articles))\n",
    "    threshold = 50\n",
    "    print('Hot article(> &d push):' % (threshold))\n",
    "    for a in articles:\n",
    "        if int(a['push_count']) > threshold:\n",
    "            print(a)\n",
    "    with open('gossiping.json', 'w', encoding='utf-8') as f:\n",
    "        json.dump(articles, f, indent=2, sort_keys=True, ensure_ascii=False)"
   ]
  },
  {
   "cell_type": "code",
   "execution_count": 14,
   "metadata": {},
   "outputs": [
    {
     "name": "stdout",
     "output_type": "stream",
     "text": [
      "1/19\n"
     ]
    }
   ],
   "source": []
  },
  {
   "cell_type": "code",
   "execution_count": null,
   "metadata": {},
   "outputs": [],
   "source": []
  }
 ],
 "metadata": {
  "kernelspec": {
   "display_name": "Python 3",
   "language": "python",
   "name": "python3"
  },
  "language_info": {
   "codemirror_mode": {
    "name": "ipython",
    "version": 3
   },
   "file_extension": ".py",
   "mimetype": "text/x-python",
   "name": "python",
   "nbconvert_exporter": "python",
   "pygments_lexer": "ipython3",
   "version": "3.6.7"
  }
 },
 "nbformat": 4,
 "nbformat_minor": 2
}
