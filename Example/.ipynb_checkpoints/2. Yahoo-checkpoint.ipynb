{
 "cells": [
  {
   "cell_type": "code",
   "execution_count": 16,
   "metadata": {},
   "outputs": [],
   "source": [
    "from bs4 import BeautifulSoup as bs\n",
    "import time, requests, json\n",
    "from IPython.display import clear_output"
   ]
  },
  {
   "cell_type": "code",
   "execution_count": 17,
   "metadata": {},
   "outputs": [],
   "source": [
    "def get_web_page(url):\n",
    "    resp=requests.get(url=url)\n",
    "#         cookies={'over18':'1'})\n",
    "    if resp.status_code != 200:\n",
    "        print('Invalid url:', resp.url)\n",
    "        return None\n",
    "    else:\n",
    "        return resp.text"
   ]
  },
  {
   "cell_type": "code",
   "execution_count": 18,
   "metadata": {},
   "outputs": [],
   "source": [
    "def get_movie_id(url):\n",
    "    try:\n",
    "        movie_id = url.split('.html')[0].split('-')[-1]\n",
    "    except:\n",
    "        movie_id = url\n",
    "    return movie_id"
   ]
  },
  {
   "cell_type": "code",
   "execution_count": 19,
   "metadata": {},
   "outputs": [],
   "source": [
    "def get_data(data_str):\n",
    "    pattern = '\\d+-\\d+-\\d+'\n",
    "    match = re.search(pattern, date_str)\n",
    "    if match is None:\n",
    "        return date_str\n",
    "    else:\n",
    "        return match.group(0)"
   ]
  },
  {
   "cell_type": "code",
   "execution_count": 20,
   "metadata": {},
   "outputs": [],
   "source": [
    "def get_movies(dom):\n",
    "    soup = bs(dom, 'html5lib')\n",
    "    movies = []\n",
    "    rows = soup.find_all('div', 'realease_indo_text')\n",
    "    for row in rows:\n",
    "        movie = dict()\n",
    "        movie['expecation'] = row.find('div', 'leveltext').span.text.strip()\n",
    "        movie['ch_name'] = row.find('div', 'release_movie_name').a.text.strip()\n",
    "        movie['eng_name'] = row.find('div', 'release_movie_name').find('div', 'en').a.text.strip()\n",
    "        movie['poster_url'] = row.parent.find_previous_sibling('div','release_foto').a.img['src']\n",
    "        movie['release_date'] = get_date(row.find('div', 'release_movie_time').text)\n",
    "        movie['intro'] = row.find('div', 'release_text')\n",
    "        trailer_a = row.find_next_sibling('div', 'release_btn color_btnbox').find('a'[1])\n",
    "        movie['trailer_url'] = trailer_a['href'] if 'href' in trailer_a.attrs else ''\n",
    "        movies.append(movie)\n",
    "    return movies"
   ]
  },
  {
   "cell_type": "code",
   "execution_count": 21,
   "metadata": {},
   "outputs": [],
   "source": [
    "url = 'https://tw.movies.yahoo.com/movie_thisweek.html'\n",
    "page = get_web_page(url)\n",
    "if page:\n",
    "    movies = get_movies(page)\n",
    "    for movie in movies:\n",
    "        print(movie)\n",
    "    with open('movie.json', 'w', encoding='utf-8') as f:\n",
    "        json.dump(movies, f, indent=2, sort_keys=True, ensure_ascii=False)"
   ]
  },
  {
   "cell_type": "code",
   "execution_count": null,
   "metadata": {},
   "outputs": [],
   "source": []
  }
 ],
 "metadata": {
  "kernelspec": {
   "display_name": "Python 3",
   "language": "python",
   "name": "python3"
  },
  "language_info": {
   "codemirror_mode": {
    "name": "ipython",
    "version": 3
   },
   "file_extension": ".py",
   "mimetype": "text/x-python",
   "name": "python",
   "nbconvert_exporter": "python",
   "pygments_lexer": "ipython3",
   "version": "3.6.7"
  }
 },
 "nbformat": 4,
 "nbformat_minor": 2
}
