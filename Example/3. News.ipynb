{
 "cells": [
  {
   "cell_type": "code",
   "execution_count": 3,
   "metadata": {},
   "outputs": [],
   "source": [
    "from bs4 import BeautifulSoup as bs\n",
    "import time, requests, json, re\n",
    "from IPython.display import clear_output"
   ]
  },
  {
   "cell_type": "code",
   "execution_count": 4,
   "metadata": {},
   "outputs": [],
   "source": [
    "url1 = 'http://www.appledaily.com.tw/appledaily/hotdaily/headline'\n",
    "url2 = 'http://news.ltn.com.tw/list/newspaper'"
   ]
  },
  {
   "cell_type": "code",
   "execution_count": 6,
   "metadata": {},
   "outputs": [
    {
     "name": "stdout",
     "output_type": "stream",
     "text": [
      "Apple Daily Headline\n",
      "01 批蔡親美 柯：如強盜搶銀行 離譜暗喻中國是警察 70064\n",
      "02 【好康】周六補班不憂鬱　咖啡買1送1優惠都在這 14728\n",
      "03 李亞萍 退澎恰恰紅包挨轟 自掌嘴「胡說八道」 33916\n",
      "04 支付聯名卡 3雄激戰 台新攜街口PK中信LINE  Pay與玉山Pi錢包 8884\n",
      "05 狠父母逼童割肉還親 丟刀冷看 10歲兒驚嚇自殘 32332\n",
      "06 【蘋中人】80歲我可全裸演出 楊麗音 16427\n",
      "07 真帶種 勇警抗命被記功 不甩「柔性勸導」壓制「鄉民正義」 35857\n",
      "08 鹿希派 爆乳斯亞伴舞開唱 cue難兄難弟孫安佐 16947\n",
      "09 美航母擬赴台海 海軍軍令部長撂話嗆中國 15304\n",
      "10 砍111刀奪命 等執行槍決6年 弒父死囚 北所自盡亡 28887\n",
      "11 【低GI減肥】吃這些食物讓你事半功倍 4587\n",
      "12 住家納節能補助 買冰箱省5千 13850\n",
      "13 繼孫女慘死兇手被判20年 摩根佛利曼亂倫黑史遭掀 9411\n",
      "14 櫃姐遲5分鐘罰1600 怨日薪扣光還倒貼 勞工局：百貨罰錯對象 16656\n",
      "15 家人未曾探視「陳男對人生沒憧憬」 14770\n",
      "16 招待西安旅遊 會員淪服務生 12248\n",
      "17 何如芸鬼上身使壞 小三臉被嫌臭老 9534\n",
      "18 Kelly Talk：理科太太 跑趴轉性 隱露長腿笑嗨嗨 9055\n",
      "19 日立併永大掀波 獨董控價格太低 市場派開第1槍 家族內訌再起 6526\n",
      "20 台南虐童案震驚英國《太陽報》：去死吧 11835\n",
      "21 NBA過半季 打出奇葩 數據之王浮現 7525\n",
      "22 史上最大 6米大白鯊現蹤夏威夷 5250\n",
      "23 今天我最美 12003\n",
      "24 台中 暢玩話題熱點 遊藥局吃醬油雞 6319\n",
      "25 騙扁少年 求停審被駁 暴肥長相差很大 查指紋確認是黃琪 13690\n",
      "26 張芸京沉寂3年 無照走唱被逼逼 5332\n",
      "27 朴敏英金秘書look撲台 甜笑送飛吻 4743\n",
      "28 阿沁 挑夫陪掃貨 爸氣扛女寵嬌妻 8413\n",
      "29 孫安佐po門票「粉絲來找我」 10737\n",
      "30 有糖尿病心血管病史 應每天測血糖 2290\n",
      "--------\n",
      "Freedom Press daily news\n",
      "美海軍作戰部長：不排除再派航艦過台海\n",
      "國衛院研究：糖化血色素偏低 恐早衰\n",
      "黑道大哥 強拗建商賤賣豪宅\n",
      "首任英國領事子孫 百年後跨海尋根》老少史溫侯 跨越時空相會打狗\n",
      "足協新氣象 國家隊新戰袍亮相\n",
      "大學自治 不可包庇教授貪污詐財\n",
      "馬系監委倒管？ 2臨時請假1倒戈\n",
      "美UCLA明定兼職收入與天數上限 且須申報\n",
      "希望校務更透明／抗議大學蠻幹 多校學生籲提高學代比例\n",
      "首個下鄉行程 會勘已承諾建設／蘇揆訪視新北 侯讚「行動派」\n",
      "部長開直播 蘇︰向人民報告\n",
      "將中國捧為警察／台親美立場 柯p竟喻「搶銀行 忘了警察」\n",
      "韓「九二共識」再遭議員猛攻\n",
      "總統牌局／柯P可能上桌？ 王︰他不是國民黨\n",
      "總統立委併選 北區公聽會一面倒支持\n"
     ]
    }
   ],
   "source": [
    "print('Apple Daily Headline')\n",
    "dom =requests.get(url1).text\n",
    "soup = bs(dom, 'html5lib')\n",
    "for ele in soup.find('ul', 'all').find_all('li'):\n",
    "    print(\n",
    "        ele.find('div', 'aht_title_num').text,\n",
    "        ele.find('div', 'aht_title').text,\n",
    "        ele.find('div', 'aht_pv_num').text\n",
    "    )\n",
    "print('--------')\n",
    "print('Freedom Press daily news')\n",
    "dom = requests.get('http://news.ltn.com.tw/list/newspaper').text\n",
    "soup = bs(dom, 'html5lib')\n",
    "for ele in soup.find('ul','list').find_all('li'):\n",
    "    if ele.find('a', 'tit') != None:\n",
    "        print(ele.find('a', 'tit').text.strip())"
   ]
  },
  {
   "cell_type": "code",
   "execution_count": null,
   "metadata": {},
   "outputs": [],
   "source": []
  }
 ],
 "metadata": {
  "kernelspec": {
   "display_name": "Python 3",
   "language": "python",
   "name": "python3"
  },
  "language_info": {
   "codemirror_mode": {
    "name": "ipython",
    "version": 3
   },
   "file_extension": ".py",
   "mimetype": "text/x-python",
   "name": "python",
   "nbconvert_exporter": "python",
   "pygments_lexer": "ipython3",
   "version": "3.6.7"
  }
 },
 "nbformat": 4,
 "nbformat_minor": 2
}
