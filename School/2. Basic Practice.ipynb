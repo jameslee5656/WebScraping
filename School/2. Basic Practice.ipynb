{
 "cells": [
  {
   "cell_type": "code",
   "execution_count": 1,
   "metadata": {},
   "outputs": [],
   "source": [
    " # -*- coding:utf-8 -*-\n",
    "import requests\n",
    "from bs4 import BeautifulSoup as bsp\n",
    "\n",
    "resp = requests.get('http://www.ntpu.edu.tw/chinese/')\n",
    "resp.encoding='big5'\n",
    "soup = bsp(resp.text, 'html.parser')\n",
    "\n",
    "lis = soup.find_all('a',{'class':'font-color-focus'})\n",
    "lis += soup.find_all('a',{'class':'font-black-13'})\n",
    "\n",
    "# print(soup.dt.text)"
   ]
  },
  {
   "cell_type": "code",
   "execution_count": 2,
   "metadata": {},
   "outputs": [],
   "source": [
    "divs = soup.find_all('div')\n",
    "s = []\n",
    "for div in divs:\n",
    "    s.append(x for x in div.stripped_strings)"
   ]
  },
  {
   "cell_type": "code",
   "execution_count": 3,
   "metadata": {},
   "outputs": [
    {
     "name": "stdout",
     "output_type": "stream",
     "text": [
      "['您的瀏覽器不支援JavaScript']\n"
     ]
    }
   ],
   "source": [
    "print([x for x in s[0]])"
   ]
  },
  {
   "cell_type": "code",
   "execution_count": 4,
   "metadata": {},
   "outputs": [
    {
     "name": "stdout",
     "output_type": "stream",
     "text": [
      "標題 時間\n",
      "【如鳶高飛】 校歌同意投票 即日起至18日  01-02 09:28\n",
      "\"跨校選修生\" 如何申請數位學苑帳號  10-12 10:50\n",
      "\"應屆畢業生\" 使用數位學苑2.0說明  07-03 15:34\n",
      "系統操作問題解決辦法  02-24 09:19\n",
      "數位學苑2.0歷年課程教材匯入功能介紹  02-24 10:32\n",
      "\n",
      "\n"
     ]
    }
   ],
   "source": [
    "resp2 = requests.get('http://lms.ntpu.edu.tw/')\n",
    "resp2.encoding='utf-8'\n",
    "soup2 = bsp(resp2.text,'html.parser')\n",
    "rows = soup2.find('table','table').find_all('tr')\n",
    "for row in rows:\n",
    "    content = row.find_all('td')\n",
    "    print(content[1].text, content[3].text)\n",
    "print(\"\\n\")\n",
    "# links = soup.find_all('a')\n",
    "# for link in links:\n",
    "#     print(link.parent)\n",
    "#     print('2',link.parent.previous_sibling.text)"
   ]
  },
  {
   "cell_type": "code",
   "execution_count": 59,
   "metadata": {},
   "outputs": [
    {
     "ename": "TypeError",
     "evalue": "argument of type 'NoneType' is not iterable",
     "output_type": "error",
     "traceback": [
      "\u001b[0;31m---------------------------------------------------------------------------\u001b[0m",
      "\u001b[0;31mTypeError\u001b[0m                                 Traceback (most recent call last)",
      "\u001b[0;32m<ipython-input-59-fca4836367ff>\u001b[0m in \u001b[0;36m<module>\u001b[0;34m()\u001b[0m\n\u001b[1;32m      5\u001b[0m     \u001b[0;31m#method 2: find row (<tr>)`s all direct children\u001b[0m\u001b[0;34m\u001b[0m\u001b[0;34m\u001b[0m\u001b[0;34m\u001b[0m\u001b[0m\n\u001b[1;32m      6\u001b[0m \u001b[0;31m#     tds = ([td for td in row.children])   =>> became list type =>> not useful\u001b[0m\u001b[0;34m\u001b[0m\u001b[0;34m\u001b[0m\u001b[0;34m\u001b[0m\u001b[0m\n\u001b[0;32m----> 7\u001b[0;31m     \u001b[0;32mif\u001b[0m \u001b[0;34m'herf'\u001b[0m \u001b[0;32min\u001b[0m \u001b[0mtds\u001b[0m\u001b[0;34m[\u001b[0m\u001b[0;36m1\u001b[0m\u001b[0;34m]\u001b[0m\u001b[0;34m.\u001b[0m\u001b[0ma\u001b[0m\u001b[0;34m:\u001b[0m\u001b[0;34m\u001b[0m\u001b[0;34m\u001b[0m\u001b[0m\n\u001b[0m\u001b[1;32m      8\u001b[0m         \u001b[0mprint\u001b[0m\u001b[0;34m(\u001b[0m\u001b[0mtds\u001b[0m\u001b[0;34m[\u001b[0m\u001b[0;36m3\u001b[0m\u001b[0;34m]\u001b[0m\u001b[0;34m.\u001b[0m\u001b[0ma\u001b[0m\u001b[0;34m[\u001b[0m\u001b[0;34m'href'\u001b[0m\u001b[0;34m]\u001b[0m\u001b[0;34m)\u001b[0m\u001b[0;34m\u001b[0m\u001b[0;34m\u001b[0m\u001b[0m\n\u001b[1;32m      9\u001b[0m     \u001b[0;32melse\u001b[0m\u001b[0;34m:\u001b[0m\u001b[0;34m\u001b[0m\u001b[0;34m\u001b[0m\u001b[0m\n",
      "\u001b[0;31mTypeError\u001b[0m: argument of type 'NoneType' is not iterable"
     ]
    }
   ],
   "source": [
    "all_href = []\n",
    "for row in rows:\n",
    "    #method 1: find_all('td')\n",
    "    tds = (row.find_all('td'))\n",
    "    #method 2: find row (<tr>)`s all direct children\n",
    "#     tds = ([td for td in row.children])   =>> became list type =>> not useful\n",
    "#     if 'herf' in tds[1].a:\n",
    "#         print(tds[3].a['href'])\n",
    "#     else:\n",
    "#         pass\n",
    "#     all_href.append(tds)\n",
    "    "
   ]
  },
  {
   "cell_type": "code",
   "execution_count": null,
   "metadata": {},
   "outputs": [],
   "source": []
  }
 ],
 "metadata": {
  "kernelspec": {
   "display_name": "Python 3",
   "language": "python",
   "name": "python3"
  },
  "language_info": {
   "codemirror_mode": {
    "name": "ipython",
    "version": 3
   },
   "file_extension": ".py",
   "mimetype": "text/x-python",
   "name": "python",
   "nbconvert_exporter": "python",
   "pygments_lexer": "ipython3",
   "version": "3.6.7"
  }
 },
 "nbformat": 4,
 "nbformat_minor": 2
}
