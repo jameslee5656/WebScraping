{
 "cells": [
  {
   "cell_type": "code",
   "execution_count": 1,
   "metadata": {},
   "outputs": [],
   "source": [
    " # -*- coding:utf-8 -*-\n",
    "import requests\n",
    "from bs4 import BeautifulSoup as bsp\n",
    "\n",
    "resp = requests.get('http://www.ntpu.edu.tw/chinese/')\n",
    "resp.encoding='big5'\n",
    "soup = bsp(resp.text, 'html.parser')\n",
    "\n",
    "lis = soup.find_all('a',{'class':'font-color-focus'})\n",
    "lis += soup.find_all('a',{'class':'font-black-13'})\n",
    "\n",
    "# print(soup.dt.text)"
   ]
  },
  {
   "cell_type": "code",
   "execution_count": 2,
   "metadata": {},
   "outputs": [],
   "source": [
    "divs = soup.find_all('div')\n",
    "s = []\n",
    "for div in divs:\n",
    "    s.append(x for x in div.stripped_strings)"
   ]
  },
  {
   "cell_type": "code",
   "execution_count": 3,
   "metadata": {},
   "outputs": [
    {
     "name": "stdout",
     "output_type": "stream",
     "text": [
      "['您的瀏覽器不支援JavaScript']\n"
     ]
    }
   ],
   "source": [
    "print([x for x in s[0]])"
   ]
  },
  {
   "cell_type": "code",
   "execution_count": 4,
   "metadata": {},
   "outputs": [
    {
     "name": "stdout",
     "output_type": "stream",
     "text": [
      "標題 時間\n",
      "【如鳶高飛】 校歌同意投票 即日起至18日  01-02 09:28\n",
      "\"跨校選修生\" 如何申請數位學苑帳號  10-12 10:50\n",
      "\"應屆畢業生\" 使用數位學苑2.0說明  07-03 15:34\n",
      "系統操作問題解決辦法  02-24 09:19\n",
      "數位學苑2.0歷年課程教材匯入功能介紹  02-24 10:32\n",
      "\n",
      "\n"
     ]
    }
   ],
   "source": [
    "resp2 = requests.get('http://lms.ntpu.edu.tw/')\n",
    "resp2.encoding='utf-8'\n",
    "soup2 = bsp(resp2.text,'html.parser')\n",
    "rows = soup2.find('table','table').find_all('tr')\n",
    "for row in rows:\n",
    "    content = row.find_all('td')\n",
    "    print(content[1].text, content[3].text)\n",
    "print(\"\\n\")\n",
    "# links = soup.find_all('a')\n",
    "# for link in links:\n",
    "#     print(link.parent)\n",
    "#     print('2',link.parent.previous_sibling.text)"
   ]
  },
  {
   "cell_type": "code",
   "execution_count": 21,
   "metadata": {},
   "outputs": [],
   "source": [
    "all_tds = []\n",
    "for row in rows:\n",
    "    #method 1: find_all('td')\n",
    "    tds = (row.find_all('td'))\n",
    "    #method 2: find row (<tr>)`s all direct children\n",
    "    tds = ([td for td in row.children])\n",
    "#     get herf attribute berfore inspect if it exist\n",
    "#     print(all_tds)\n",
    "    if(len(all_tds)>4):\n",
    "        if 'href' in all_tds[3]:\n",
    "            print(all_tds[3])\n",
    "#         href = all_tds[3].a['href']\n",
    "#     else:\n",
    "#         href = None\n",
    "#     print(all_tds[0].text, all_tds[1].text,\n",
    "#          all_tds[2].text,href,all_tds[3].a.img['src'])\n",
    "    all_tds.append(tds)\n",
    "# all_tds"
   ]
  },
  {
   "cell_type": "code",
   "execution_count": 22,
   "metadata": {},
   "outputs": [
    {
     "data": {
      "text/plain": [
       "[[<td align=\"center\" class=\"td\" width=\"55px\">編號</td>,\n",
       "  <td align=\"center\" class=\"td\">標題</td>,\n",
       "  <td align=\"center\" class=\"td\" width=\"55px\">人氣</td>,\n",
       "  <td align=\"center\" class=\"td\" width=\"80px\">時間</td>],\n",
       " [<td align=\"center\" class=\"td\" valign=\"top\" width=\"55px\">1881208</td>,\n",
       "  <td align=\"left\" class=\"td\" valign=\"top\"><div class=\"hidden\" title=\"【如鳶高飛】 校歌同意投票 即日起至18日\"><a href=\"/index.php?nav=news_show&amp;newsID=1881208\">【如鳶高飛】 校歌同意投票 即日起至18日</a> <img src=\"/sys/res/icon/hot.gif\"/></div></td>,\n",
       "  <td align=\"center\" class=\"td\" valign=\"top\" width=\"55px\">275</td>,\n",
       "  <td align=\"center\" class=\"td\" valign=\"top\" width=\"80px\"><div class=\"hidden\">01-02 09:28</div></td>],\n",
       " [<td align=\"center\" class=\"td\" valign=\"top\" width=\"55px\">343527</td>,\n",
       "  <td align=\"left\" class=\"td\" valign=\"top\"><div class=\"hidden\" title='\"跨校選修生\" 如何申請數位學苑帳號'><a href=\"/index.php?nav=news_show&amp;newsID=343527\">\"跨校選修生\" 如何申請數位學苑帳號</a> <img src=\"/sys/res/icon/hot.gif\"/></div></td>,\n",
       "  <td align=\"center\" class=\"td\" valign=\"top\" width=\"55px\">5497</td>,\n",
       "  <td align=\"center\" class=\"td\" valign=\"top\" width=\"80px\"><div class=\"hidden\">10-12 10:50</div></td>],\n",
       " [<td align=\"center\" class=\"td\" valign=\"top\" width=\"55px\">509604</td>,\n",
       "  <td align=\"left\" class=\"td\" valign=\"top\"><div class=\"hidden\" title='\"應屆畢業生\" 使用數位學苑2.0說明'><a href=\"/index.php?nav=news_show&amp;newsID=509604\">\"應屆畢業生\" 使用數位學苑2.0說明</a> <img src=\"/sys/res/icon/hot.gif\"/></div></td>,\n",
       "  <td align=\"center\" class=\"td\" valign=\"top\" width=\"55px\">4180</td>,\n",
       "  <td align=\"center\" class=\"td\" valign=\"top\" width=\"80px\"><div class=\"hidden\">07-03 15:34</div></td>],\n",
       " [<td align=\"center\" class=\"td\" valign=\"top\" width=\"55px\">4046</td>,\n",
       "  <td align=\"left\" class=\"td\" valign=\"top\"><div class=\"hidden\" title=\"系統操作問題解決辦法\"><a href=\"/index.php?nav=news_show&amp;newsID=4046\">系統操作問題解決辦法</a> </div></td>,\n",
       "  <td align=\"center\" class=\"td\" valign=\"top\" width=\"55px\">541237</td>,\n",
       "  <td align=\"center\" class=\"td\" valign=\"top\" width=\"80px\"><div class=\"hidden\">02-24 09:19</div></td>],\n",
       " [<td align=\"center\" class=\"td\" valign=\"top\" width=\"55px\">851500</td>,\n",
       "  <td align=\"left\" class=\"td\" valign=\"top\"><div class=\"hidden\" title=\"數位學苑2.0歷年課程教材匯入功能介紹\"><a href=\"/index.php?nav=news_show&amp;newsID=851500\">數位學苑2.0歷年課程教材匯入功能介紹</a> </div></td>,\n",
       "  <td align=\"center\" class=\"td\" valign=\"top\" width=\"55px\">2661</td>,\n",
       "  <td align=\"center\" class=\"td\" valign=\"top\" width=\"80px\"><div class=\"hidden\">02-24 10:32</div></td>]]"
      ]
     },
     "execution_count": 22,
     "metadata": {},
     "output_type": "execute_result"
    }
   ],
   "source": [
    "all_tds"
   ]
  },
  {
   "cell_type": "code",
   "execution_count": null,
   "metadata": {},
   "outputs": [],
   "source": []
  }
 ],
 "metadata": {
  "kernelspec": {
   "display_name": "Python 3",
   "language": "python",
   "name": "python3"
  },
  "language_info": {
   "codemirror_mode": {
    "name": "ipython",
    "version": 3
   },
   "file_extension": ".py",
   "mimetype": "text/x-python",
   "name": "python",
   "nbconvert_exporter": "python",
   "pygments_lexer": "ipython3",
   "version": "3.6.7"
  }
 },
 "nbformat": 4,
 "nbformat_minor": 2
}
