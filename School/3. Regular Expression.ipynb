{
 "cells": [
  {
   "cell_type": "code",
   "execution_count": 7,
   "metadata": {},
   "outputs": [],
   "source": [
    "import requests\n",
    "from bs4 import BeautifulSoup as bs\n",
    "resp = requests.get('https://jwlin.github.io/py-scraping-analysis-book/ch2/blog/blog.html')\n",
    "soup = bs(resp.text,'html.parser')"
   ]
  },
  {
   "cell_type": "code",
   "execution_count": 11,
   "metadata": {},
   "outputs": [
    {
     "name": "stdout",
     "output_type": "stream",
     "text": [
      "Python教學文章\n",
      "開發環境設定\n",
      "Mac使用者\n",
      "資料科學\n",
      "給初學者的 Python 網頁爬蟲與資料分析\n",
      "資料科學\n",
      "給初學者的 Python 網頁爬蟲與資料分析\n",
      "資料科學\n",
      "給初學者的 Python 網頁爬蟲與資料分析\n",
      "資料科學\n",
      "給初學者的 Python 網頁爬蟲與資料分析\n",
      "資料科學\n",
      "給初學者的 Python 網頁爬蟲與資料分析\n"
     ]
    }
   ],
   "source": [
    "# titles = soup.find_all(['h1','h2','h3','h4','h5','h6'])\n",
    "# for title in titles:\n",
    "#     print(title.text.strip())\n",
    "# ==>>> Regular Expression\n",
    "import re\n",
    "for title in soup.find_all(re.compile('h[1-6]')):\n",
    "    print(title.text.strip())"
   ]
  },
  {
   "cell_type": "code",
   "execution_count": 17,
   "metadata": {},
   "outputs": [
    {
     "name": "stdout",
     "output_type": "stream",
     "text": [
      "static/python-for-beginners.png\n",
      "static/python_crawler.png\n",
      "static/python_crawler.png\n",
      "static/python_crawler.png\n",
      "static/python_crawler.png\n",
      "static/python_crawler.png\n"
     ]
    }
   ],
   "source": [
    "# imgs = soup.find_all('img')\n",
    "# for img in imgs:\n",
    "#     if 'src' in img.attrs:\n",
    "#         if img['src'].endswith('png'):\n",
    "#             print(img['src'])\n",
    "# ==>>>> Regular Expression\n",
    "for img in soup.find_all('img', {'src':re.compile('\\.png$')}):\n",
    "    print(img['src'])"
   ]
  },
  {
   "cell_type": "code",
   "execution_count": 18,
   "metadata": {},
   "outputs": [
    {
     "name": "stdout",
     "output_type": "stream",
     "text": [
      "static/python-for-beginners.png\n"
     ]
    }
   ],
   "source": [
    "for img in soup.find_all('img', {'src':re.compile('beginner.*\\.png$')}):\n",
    "    print(img['src'])"
   ]
  },
  {
   "cell_type": "code",
   "execution_count": null,
   "metadata": {},
   "outputs": [],
   "source": []
  }
 ],
 "metadata": {
  "kernelspec": {
   "display_name": "Python 3",
   "language": "python",
   "name": "python3"
  },
  "language_info": {
   "codemirror_mode": {
    "name": "ipython",
    "version": 3
   },
   "file_extension": ".py",
   "mimetype": "text/x-python",
   "name": "python",
   "nbconvert_exporter": "python",
   "pygments_lexer": "ipython3",
   "version": "3.6.7"
  }
 },
 "nbformat": 4,
 "nbformat_minor": 2
}
